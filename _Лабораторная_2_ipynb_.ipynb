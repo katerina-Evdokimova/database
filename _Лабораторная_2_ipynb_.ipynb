{
  "nbformat": 4,
  "nbformat_minor": 0,
  "metadata": {
    "kernelspec": {
      "display_name": "Python 3",
      "language": "python",
      "name": "python3"
    },
    "language_info": {
      "codemirror_mode": {
        "name": "ipython",
        "version": 3
      },
      "file_extension": ".py",
      "mimetype": "text/x-python",
      "name": "python",
      "nbconvert_exporter": "python",
      "pygments_lexer": "ipython3",
      "version": "3.7.6"
    },
    "colab": {
      "name": "\"Лабораторная-2.ipynb\"",
      "provenance": [],
      "collapsed_sections": []
    }
  },
  "cells": [
    {
      "cell_type": "code",
      "metadata": {
        "id": "phZbalWShFqH"
      },
      "source": [
        "%reload_ext sql"
      ],
      "execution_count": null,
      "outputs": []
    },
    {
      "cell_type": "code",
      "metadata": {
        "colab": {
          "base_uri": "https://localhost:8080/",
          "height": 70
        },
        "id": "exFkotWz7Lk_",
        "outputId": "da935373-e2cc-45e9-8c6d-343678c1a01c"
      },
      "source": [
        "%load_ext sql\n",
        "%sql sqlite:////content/chinook.db"
      ],
      "execution_count": null,
      "outputs": [
        {
          "output_type": "stream",
          "name": "stdout",
          "text": [
            "The sql extension is already loaded. To reload it, use:\n",
            "  %reload_ext sql\n"
          ]
        },
        {
          "output_type": "execute_result",
          "data": {
            "application/vnd.google.colaboratory.intrinsic+json": {
              "type": "string"
            },
            "text/plain": [
              "'Connected: @/content/chinook.db'"
            ]
          },
          "metadata": {},
          "execution_count": 3
        }
      ]
    },
    {
      "cell_type": "markdown",
      "metadata": {
        "id": "RLCXYZL5AVUh"
      },
      "source": [
        "# Часть 1"
      ]
    },
    {
      "cell_type": "code",
      "metadata": {
        "colab": {
          "base_uri": "https://localhost:8080/",
          "height": 445
        },
        "id": "zLSZFHwWdMaI",
        "outputId": "2a50161d-029e-4479-9d91-62040bd2c527"
      },
      "source": [
        "%%sql\n",
        "SELECT * FROM tracks LIMIT 10"
      ],
      "execution_count": null,
      "outputs": [
        {
          "output_type": "stream",
          "name": "stdout",
          "text": [
            " * sqlite:////content/chinook.db\n",
            "Done.\n"
          ]
        },
        {
          "output_type": "execute_result",
          "data": {
            "text/html": [
              "<table>\n",
              "    <thead>\n",
              "        <tr>\n",
              "            <th>TrackId</th>\n",
              "            <th>Name</th>\n",
              "            <th>AlbumId</th>\n",
              "            <th>MediaTypeId</th>\n",
              "            <th>GenreId</th>\n",
              "            <th>Composer</th>\n",
              "            <th>Milliseconds</th>\n",
              "            <th>Bytes</th>\n",
              "            <th>UnitPrice</th>\n",
              "        </tr>\n",
              "    </thead>\n",
              "    <tbody>\n",
              "        <tr>\n",
              "            <td>1</td>\n",
              "            <td>For Those About To Rock (We Salute You)</td>\n",
              "            <td>1</td>\n",
              "            <td>1</td>\n",
              "            <td>1</td>\n",
              "            <td>Angus Young, Malcolm Young, Brian Johnson</td>\n",
              "            <td>343719</td>\n",
              "            <td>11170334</td>\n",
              "            <td>0.99</td>\n",
              "        </tr>\n",
              "        <tr>\n",
              "            <td>2</td>\n",
              "            <td>Balls to the Wall</td>\n",
              "            <td>2</td>\n",
              "            <td>2</td>\n",
              "            <td>1</td>\n",
              "            <td>None</td>\n",
              "            <td>342562</td>\n",
              "            <td>5510424</td>\n",
              "            <td>0.99</td>\n",
              "        </tr>\n",
              "        <tr>\n",
              "            <td>3</td>\n",
              "            <td>Fast As a Shark</td>\n",
              "            <td>3</td>\n",
              "            <td>2</td>\n",
              "            <td>1</td>\n",
              "            <td>F. Baltes, S. Kaufman, U. Dirkscneider &amp; W. Hoffman</td>\n",
              "            <td>230619</td>\n",
              "            <td>3990994</td>\n",
              "            <td>0.99</td>\n",
              "        </tr>\n",
              "        <tr>\n",
              "            <td>4</td>\n",
              "            <td>Restless and Wild</td>\n",
              "            <td>3</td>\n",
              "            <td>2</td>\n",
              "            <td>1</td>\n",
              "            <td>F. Baltes, R.A. Smith-Diesel, S. Kaufman, U. Dirkscneider &amp; W. Hoffman</td>\n",
              "            <td>252051</td>\n",
              "            <td>4331779</td>\n",
              "            <td>0.99</td>\n",
              "        </tr>\n",
              "        <tr>\n",
              "            <td>5</td>\n",
              "            <td>Princess of the Dawn</td>\n",
              "            <td>3</td>\n",
              "            <td>2</td>\n",
              "            <td>1</td>\n",
              "            <td>Deaffy &amp; R.A. Smith-Diesel</td>\n",
              "            <td>375418</td>\n",
              "            <td>6290521</td>\n",
              "            <td>0.99</td>\n",
              "        </tr>\n",
              "        <tr>\n",
              "            <td>6</td>\n",
              "            <td>Put The Finger On You</td>\n",
              "            <td>1</td>\n",
              "            <td>1</td>\n",
              "            <td>1</td>\n",
              "            <td>Angus Young, Malcolm Young, Brian Johnson</td>\n",
              "            <td>205662</td>\n",
              "            <td>6713451</td>\n",
              "            <td>0.99</td>\n",
              "        </tr>\n",
              "        <tr>\n",
              "            <td>7</td>\n",
              "            <td>Let&#x27;s Get It Up</td>\n",
              "            <td>1</td>\n",
              "            <td>1</td>\n",
              "            <td>1</td>\n",
              "            <td>Angus Young, Malcolm Young, Brian Johnson</td>\n",
              "            <td>233926</td>\n",
              "            <td>7636561</td>\n",
              "            <td>0.99</td>\n",
              "        </tr>\n",
              "        <tr>\n",
              "            <td>8</td>\n",
              "            <td>Inject The Venom</td>\n",
              "            <td>1</td>\n",
              "            <td>1</td>\n",
              "            <td>1</td>\n",
              "            <td>Angus Young, Malcolm Young, Brian Johnson</td>\n",
              "            <td>210834</td>\n",
              "            <td>6852860</td>\n",
              "            <td>0.99</td>\n",
              "        </tr>\n",
              "        <tr>\n",
              "            <td>9</td>\n",
              "            <td>Snowballed</td>\n",
              "            <td>1</td>\n",
              "            <td>1</td>\n",
              "            <td>1</td>\n",
              "            <td>Angus Young, Malcolm Young, Brian Johnson</td>\n",
              "            <td>203102</td>\n",
              "            <td>6599424</td>\n",
              "            <td>0.99</td>\n",
              "        </tr>\n",
              "        <tr>\n",
              "            <td>10</td>\n",
              "            <td>Evil Walks</td>\n",
              "            <td>1</td>\n",
              "            <td>1</td>\n",
              "            <td>1</td>\n",
              "            <td>Angus Young, Malcolm Young, Brian Johnson</td>\n",
              "            <td>263497</td>\n",
              "            <td>8611245</td>\n",
              "            <td>0.99</td>\n",
              "        </tr>\n",
              "    </tbody>\n",
              "</table>"
            ],
            "text/plain": [
              "[(1, 'For Those About To Rock (We Salute You)', 1, 1, 1, 'Angus Young, Malcolm Young, Brian Johnson', 343719, 11170334, 0.99),\n",
              " (2, 'Balls to the Wall', 2, 2, 1, None, 342562, 5510424, 0.99),\n",
              " (3, 'Fast As a Shark', 3, 2, 1, 'F. Baltes, S. Kaufman, U. Dirkscneider & W. Hoffman', 230619, 3990994, 0.99),\n",
              " (4, 'Restless and Wild', 3, 2, 1, 'F. Baltes, R.A. Smith-Diesel, S. Kaufman, U. Dirkscneider & W. Hoffman', 252051, 4331779, 0.99),\n",
              " (5, 'Princess of the Dawn', 3, 2, 1, 'Deaffy & R.A. Smith-Diesel', 375418, 6290521, 0.99),\n",
              " (6, 'Put The Finger On You', 1, 1, 1, 'Angus Young, Malcolm Young, Brian Johnson', 205662, 6713451, 0.99),\n",
              " (7, \"Let's Get It Up\", 1, 1, 1, 'Angus Young, Malcolm Young, Brian Johnson', 233926, 7636561, 0.99),\n",
              " (8, 'Inject The Venom', 1, 1, 1, 'Angus Young, Malcolm Young, Brian Johnson', 210834, 6852860, 0.99),\n",
              " (9, 'Snowballed', 1, 1, 1, 'Angus Young, Malcolm Young, Brian Johnson', 203102, 6599424, 0.99),\n",
              " (10, 'Evil Walks', 1, 1, 1, 'Angus Young, Malcolm Young, Brian Johnson', 263497, 8611245, 0.99)]"
            ]
          },
          "metadata": {},
          "execution_count": 4
        }
      ]
    },
    {
      "cell_type": "markdown",
      "metadata": {
        "id": "IwJ_E91n7LlD"
      },
      "source": [
        "## Задание 1\n",
        "\n",
        "Вывести 20 самых больших по размеру треков жанра ROCK и формата MPEG (используйте команду LIMIT)"
      ]
    },
    {
      "cell_type": "code",
      "metadata": {
        "colab": {
          "base_uri": "https://localhost:8080/",
          "height": 114
        },
        "id": "cKZuEcJJnHtQ",
        "outputId": "da370f11-1a77-40f7-f668-38f1c39451e9"
      },
      "source": [
        "%%sql\n",
        "SELECT * FROM genres\n",
        "WHERE genres.Name = \"Rock\";\n",
        "\n",
        "SELECT *\n",
        "FROM media_types \n",
        "WHERE Name = \"MPEG audio file\";"
      ],
      "execution_count": null,
      "outputs": [
        {
          "output_type": "stream",
          "name": "stdout",
          "text": [
            " * sqlite:////content/chinook.db\n",
            "Done.\n",
            "Done.\n"
          ]
        },
        {
          "output_type": "execute_result",
          "data": {
            "text/html": [
              "<table>\n",
              "    <thead>\n",
              "        <tr>\n",
              "            <th>MediaTypeId</th>\n",
              "            <th>Name</th>\n",
              "        </tr>\n",
              "    </thead>\n",
              "    <tbody>\n",
              "        <tr>\n",
              "            <td>1</td>\n",
              "            <td>MPEG audio file</td>\n",
              "        </tr>\n",
              "    </tbody>\n",
              "</table>"
            ],
            "text/plain": [
              "[(1, 'MPEG audio file')]"
            ]
          },
          "metadata": {},
          "execution_count": 5
        }
      ]
    },
    {
      "cell_type": "code",
      "metadata": {
        "id": "9b5SWBYUCqmy",
        "colab": {
          "base_uri": "https://localhost:8080/",
          "height": 502
        },
        "outputId": "3038903d-a0f9-400f-8cd2-f9e458a925ad"
      },
      "source": [
        "%%sql\n",
        "SELECT Name FROM tracks\n",
        "WHERE GenreId = 1 AND MediaTypeId = 1\n",
        "ORDER BY Bytes DESC\n",
        "LIMIT 20;"
      ],
      "execution_count": null,
      "outputs": [
        {
          "output_type": "stream",
          "name": "stdout",
          "text": [
            " * sqlite:////content/chinook.db\n",
            "Done.\n"
          ]
        },
        {
          "output_type": "execute_result",
          "data": {
            "text/html": [
              "<table>\n",
              "    <thead>\n",
              "        <tr>\n",
              "            <th>Name</th>\n",
              "        </tr>\n",
              "    </thead>\n",
              "    <tbody>\n",
              "        <tr>\n",
              "            <td>Dazed And Confused</td>\n",
              "        </tr>\n",
              "        <tr>\n",
              "            <td>Space Truckin&#x27;</td>\n",
              "        </tr>\n",
              "        <tr>\n",
              "            <td>Dazed And Confused</td>\n",
              "        </tr>\n",
              "        <tr>\n",
              "            <td>We&#x27;ve Got To Get Together/Jingo</td>\n",
              "        </tr>\n",
              "        <tr>\n",
              "            <td>Funky Piano</td>\n",
              "        </tr>\n",
              "        <tr>\n",
              "            <td>Going Down / Highway Star</td>\n",
              "        </tr>\n",
              "        <tr>\n",
              "            <td>Santana Jam</td>\n",
              "        </tr>\n",
              "        <tr>\n",
              "            <td>The Sun Road</td>\n",
              "        </tr>\n",
              "        <tr>\n",
              "            <td>Whole Lotta Love</td>\n",
              "        </tr>\n",
              "        <tr>\n",
              "            <td>Mistreated (Alternate Version)</td>\n",
              "        </tr>\n",
              "        <tr>\n",
              "            <td>Just Ain&#x27;t Good Enough</td>\n",
              "        </tr>\n",
              "        <tr>\n",
              "            <td>Sign Of The Cross</td>\n",
              "        </tr>\n",
              "        <tr>\n",
              "            <td>Whole Lotta Love (Medley)</td>\n",
              "        </tr>\n",
              "        <tr>\n",
              "            <td>You Fool No One</td>\n",
              "        </tr>\n",
              "        <tr>\n",
              "            <td>Moby Dick</td>\n",
              "        </tr>\n",
              "        <tr>\n",
              "            <td>You Fool No One (Alternate Version)</td>\n",
              "        </tr>\n",
              "        <tr>\n",
              "            <td>The Calling</td>\n",
              "        </tr>\n",
              "        <tr>\n",
              "            <td>Mistreated</td>\n",
              "        </tr>\n",
              "        <tr>\n",
              "            <td>No Quarter</td>\n",
              "        </tr>\n",
              "        <tr>\n",
              "            <td>The Angel And The Gambler</td>\n",
              "        </tr>\n",
              "    </tbody>\n",
              "</table>"
            ],
            "text/plain": [
              "[('Dazed And Confused',),\n",
              " (\"Space Truckin'\",),\n",
              " ('Dazed And Confused',),\n",
              " (\"We've Got To Get Together/Jingo\",),\n",
              " ('Funky Piano',),\n",
              " ('Going Down / Highway Star',),\n",
              " ('Santana Jam',),\n",
              " ('The Sun Road',),\n",
              " ('Whole Lotta Love',),\n",
              " ('Mistreated (Alternate Version)',),\n",
              " (\"Just Ain't Good Enough\",),\n",
              " ('Sign Of The Cross',),\n",
              " ('Whole Lotta Love (Medley)',),\n",
              " ('You Fool No One',),\n",
              " ('Moby Dick',),\n",
              " ('You Fool No One (Alternate Version)',),\n",
              " ('The Calling',),\n",
              " ('Mistreated',),\n",
              " ('No Quarter',),\n",
              " ('The Angel And The Gambler',)]"
            ]
          },
          "metadata": {},
          "execution_count": 6
        }
      ]
    },
    {
      "cell_type": "markdown",
      "metadata": {
        "id": "eEAq-gUB7LlF"
      },
      "source": [
        "## Задание 2\n",
        "Вывести названия всех групп, их песен и названия их альбомов для всех треков жанра ROCK, приобретенные сотрудниками Microsoft"
      ]
    },
    {
      "cell_type": "code",
      "metadata": {
        "id": "UdOnuW0Apwyc",
        "colab": {
          "base_uri": "https://localhost:8080/",
          "height": 246
        },
        "outputId": "a9cbdbfb-0a1f-41e2-e4eb-bde467361521"
      },
      "source": [
        "%%sql\n",
        "SELECT artists.Name AS \"~Группа~\"\n",
        "      , tracks.Name AS \"~Песня~\"\n",
        "      , albums.Title AS \"~Альбом~\"\n",
        "FROM ((((artists INNER JOIN albums ON artists.ArtistId = albums.ArtistId) \n",
        "INNER JOIN tracks ON albums.AlbumId = tracks.AlbumId) \n",
        "INNER JOIN invoice_items ON tracks.TrackId = invoice_items.TrackId)\n",
        "INNER JOIN invoices ON invoice_items.InvoiceId = invoices.InvoiceId)\n",
        "INNER JOIN CUSTOMERS ON invoices.CustomerId = CUSTOMERS.CustomerId\n",
        "WHERE tracks.GenreId = 1 AND CUSTOMERS.Company = 'Microsoft Corporation' "
      ],
      "execution_count": null,
      "outputs": [
        {
          "output_type": "stream",
          "name": "stdout",
          "text": [
            " * sqlite:////content/chinook.db\n",
            "Done.\n"
          ]
        },
        {
          "output_type": "execute_result",
          "data": {
            "text/html": [
              "<table>\n",
              "    <thead>\n",
              "        <tr>\n",
              "            <th>~Группа~</th>\n",
              "            <th>~Песня~</th>\n",
              "            <th>~Альбом~</th>\n",
              "        </tr>\n",
              "    </thead>\n",
              "    <tbody>\n",
              "        <tr>\n",
              "            <td>Foo Fighters</td>\n",
              "            <td>No Way Back</td>\n",
              "            <td>In Your Honor [Disc 1]</td>\n",
              "        </tr>\n",
              "        <tr>\n",
              "            <td>Foo Fighters</td>\n",
              "            <td>Still</td>\n",
              "            <td>In Your Honor [Disc 2]</td>\n",
              "        </tr>\n",
              "        <tr>\n",
              "            <td>Foo Fighters</td>\n",
              "            <td>Razor</td>\n",
              "            <td>In Your Honor [Disc 2]</td>\n",
              "        </tr>\n",
              "        <tr>\n",
              "            <td>Foo Fighters</td>\n",
              "            <td>My Hero</td>\n",
              "            <td>The Colour And The Shape</td>\n",
              "        </tr>\n",
              "        <tr>\n",
              "            <td>Guns N&#x27; Roses</td>\n",
              "            <td>Double Talkin&#x27; Jive</td>\n",
              "            <td>Use Your Illusion I</td>\n",
              "        </tr>\n",
              "        <tr>\n",
              "            <td>Guns N&#x27; Roses</td>\n",
              "            <td>The Garden</td>\n",
              "            <td>Use Your Illusion I</td>\n",
              "        </tr>\n",
              "        <tr>\n",
              "            <td>Guns N&#x27; Roses</td>\n",
              "            <td>Don&#x27;t Damn Me</td>\n",
              "            <td>Use Your Illusion I</td>\n",
              "        </tr>\n",
              "        <tr>\n",
              "            <td>Guns N&#x27; Roses</td>\n",
              "            <td>Dead Horse</td>\n",
              "            <td>Use Your Illusion I</td>\n",
              "        </tr>\n",
              "    </tbody>\n",
              "</table>"
            ],
            "text/plain": [
              "[('Foo Fighters', 'No Way Back', 'In Your Honor [Disc 1]'),\n",
              " ('Foo Fighters', 'Still', 'In Your Honor [Disc 2]'),\n",
              " ('Foo Fighters', 'Razor', 'In Your Honor [Disc 2]'),\n",
              " ('Foo Fighters', 'My Hero', 'The Colour And The Shape'),\n",
              " (\"Guns N' Roses\", \"Double Talkin' Jive\", 'Use Your Illusion I'),\n",
              " (\"Guns N' Roses\", 'The Garden', 'Use Your Illusion I'),\n",
              " (\"Guns N' Roses\", \"Don't Damn Me\", 'Use Your Illusion I'),\n",
              " (\"Guns N' Roses\", 'Dead Horse', 'Use Your Illusion I')]"
            ]
          },
          "metadata": {},
          "execution_count": 7
        }
      ]
    },
    {
      "cell_type": "markdown",
      "metadata": {
        "id": "0mmLXQXr7LlG"
      },
      "source": [
        "## Задание 3\n",
        "Для каждого набора (жанр, тип медиа) вывести среднюю цену по стоимости трека и общее количество, причем вывести только те наборы, для которых все треки стоят больше 1,5$ и для которых в наборе есть хотя бы один трек\n"
      ]
    },
    {
      "cell_type": "code",
      "metadata": {
        "id": "9kcvxk8OCrby",
        "colab": {
          "base_uri": "https://localhost:8080/",
          "height": 182
        },
        "outputId": "94bbbc45-2140-4ed2-fdeb-7bc5e5951ae4"
      },
      "source": [
        "%%sql\n",
        "SELECT genres.Name AS \"Жанр\"\n",
        "      , media_types.Name AS \"Тип медиа\"\n",
        "      , ROUND(AVG(tracks.UnitPrice), 2) AS \"Ср.цена\"\n",
        "      , COUNT(tracks.Name) AS \"Кол-во\"\n",
        "FROM tracks, genres, media_types\n",
        "WHERE tracks.UnitPrice > 1.5 AND genres.GenreId = tracks.GenreId\n",
        "      AND media_types.MediaTypeId = tracks.MediaTypeId\n",
        "GROUP BY tracks.GenreId\n",
        "HAVING COUNT(tracks.TrackId) >= 1\n"
      ],
      "execution_count": null,
      "outputs": [
        {
          "output_type": "stream",
          "name": "stdout",
          "text": [
            " * sqlite:////content/chinook.db\n",
            "Done.\n"
          ]
        },
        {
          "output_type": "execute_result",
          "data": {
            "text/html": [
              "<table>\n",
              "    <thead>\n",
              "        <tr>\n",
              "            <th>Жанр</th>\n",
              "            <th>Тип медиа</th>\n",
              "            <th>Ср.цена</th>\n",
              "            <th>Кол-во</th>\n",
              "        </tr>\n",
              "    </thead>\n",
              "    <tbody>\n",
              "        <tr>\n",
              "            <td>Science Fiction</td>\n",
              "            <td>Protected MPEG-4 video file</td>\n",
              "            <td>1.99</td>\n",
              "            <td>13</td>\n",
              "        </tr>\n",
              "        <tr>\n",
              "            <td>TV Shows</td>\n",
              "            <td>Protected MPEG-4 video file</td>\n",
              "            <td>1.99</td>\n",
              "            <td>93</td>\n",
              "        </tr>\n",
              "        <tr>\n",
              "            <td>Sci Fi &amp; Fantasy</td>\n",
              "            <td>Protected MPEG-4 video file</td>\n",
              "            <td>1.99</td>\n",
              "            <td>26</td>\n",
              "        </tr>\n",
              "        <tr>\n",
              "            <td>Drama</td>\n",
              "            <td>Protected MPEG-4 video file</td>\n",
              "            <td>1.99</td>\n",
              "            <td>64</td>\n",
              "        </tr>\n",
              "        <tr>\n",
              "            <td>Comedy</td>\n",
              "            <td>Protected MPEG-4 video file</td>\n",
              "            <td>1.99</td>\n",
              "            <td>17</td>\n",
              "        </tr>\n",
              "    </tbody>\n",
              "</table>"
            ],
            "text/plain": [
              "[('Science Fiction', 'Protected MPEG-4 video file', 1.99, 13),\n",
              " ('TV Shows', 'Protected MPEG-4 video file', 1.99, 93),\n",
              " ('Sci Fi & Fantasy', 'Protected MPEG-4 video file', 1.99, 26),\n",
              " ('Drama', 'Protected MPEG-4 video file', 1.99, 64),\n",
              " ('Comedy', 'Protected MPEG-4 video file', 1.99, 17)]"
            ]
          },
          "metadata": {},
          "execution_count": 8
        }
      ]
    },
    {
      "cell_type": "markdown",
      "metadata": {
        "id": "M2JDkqnT7LlG"
      },
      "source": [
        "## Задание 4\n",
        "Вывести компании, сделавшие максимальное и минимальное число заказов. Необходимо исключить клиентов без компании (NULL)"
      ]
    },
    {
      "cell_type": "code",
      "metadata": {
        "id": "isEzp0r0Crzy",
        "colab": {
          "base_uri": "https://localhost:8080/",
          "height": 289
        },
        "outputId": "483dda2c-e68a-4158-ee22-1d59b40e2952"
      },
      "source": [
        "%%sql\n",
        "SELECT CUSTOMERS.Company AS \"Компания\"\n",
        "FROM CUSTOMERS INNER JOIN invoices ON CUSTOMERS.CustomerId = invoices.CustomerId\n",
        "GROUP BY CUSTOMERS.Company\n",
        "HAVING COUNT(invoices.InvoiceId) IN (\n",
        "  (SELECT MAX(max_order)\n",
        "   FROM (\n",
        "        SELECT CUSTOMERS.Company, COUNT(invoices.InvoiceId) AS max_order\n",
        "        FROM CUSTOMERS INNER JOIN invoices ON CUSTOMERS.CustomerId = invoices.CustomerId\n",
        "        GROUP BY CUSTOMERS.Company\n",
        "        )\n",
        "  ),\n",
        "  (SELECT MIN(min_order)\n",
        "     FROM (\n",
        "        SELECT CUSTOMERS.Company, COUNT(invoices.InvoiceId) AS min_order\n",
        "        FROM CUSTOMERS INNER JOIN invoices ON CUSTOMERS.CustomerId = invoices.CustomerId\n",
        "        GROUP BY CUSTOMERS.Company\n",
        "    )\n",
        "  )\n",
        " ) AND CUSTOMERS.Company IS NOT NULL"
      ],
      "execution_count": null,
      "outputs": [
        {
          "output_type": "stream",
          "name": "stdout",
          "text": [
            " * sqlite:////content/chinook.db\n",
            "Done.\n"
          ]
        },
        {
          "output_type": "execute_result",
          "data": {
            "text/html": [
              "<table>\n",
              "    <thead>\n",
              "        <tr>\n",
              "            <th>Компания</th>\n",
              "        </tr>\n",
              "    </thead>\n",
              "    <tbody>\n",
              "        <tr>\n",
              "            <td>Apple Inc.</td>\n",
              "        </tr>\n",
              "        <tr>\n",
              "            <td>Banco do Brasil S.A.</td>\n",
              "        </tr>\n",
              "        <tr>\n",
              "            <td>Embraer - Empresa Brasileira de Aeronáutica S.A.</td>\n",
              "        </tr>\n",
              "        <tr>\n",
              "            <td>Google Inc.</td>\n",
              "        </tr>\n",
              "        <tr>\n",
              "            <td>JetBrains s.r.o.</td>\n",
              "        </tr>\n",
              "        <tr>\n",
              "            <td>Microsoft Corporation</td>\n",
              "        </tr>\n",
              "        <tr>\n",
              "            <td>Riotur</td>\n",
              "        </tr>\n",
              "        <tr>\n",
              "            <td>Rogers Canada</td>\n",
              "        </tr>\n",
              "        <tr>\n",
              "            <td>Telus</td>\n",
              "        </tr>\n",
              "        <tr>\n",
              "            <td>Woodstock Discos</td>\n",
              "        </tr>\n",
              "    </tbody>\n",
              "</table>"
            ],
            "text/plain": [
              "[('Apple Inc.',),\n",
              " ('Banco do Brasil S.A.',),\n",
              " ('Embraer - Empresa Brasileira de Aeronáutica S.A.',),\n",
              " ('Google Inc.',),\n",
              " ('JetBrains s.r.o.',),\n",
              " ('Microsoft Corporation',),\n",
              " ('Riotur',),\n",
              " ('Rogers Canada',),\n",
              " ('Telus',),\n",
              " ('Woodstock Discos',)]"
            ]
          },
          "metadata": {},
          "execution_count": 9
        }
      ]
    },
    {
      "cell_type": "markdown",
      "metadata": {
        "id": "Ni7Mi7ur7LlH"
      },
      "source": [
        "## Задание 5\n",
        "Для каждой компании вывести общее количестов песен, купленных по жанру поп-музыки"
      ]
    },
    {
      "cell_type": "code",
      "metadata": {
        "id": "TooWokIqCsIi",
        "colab": {
          "base_uri": "https://localhost:8080/",
          "height": 118
        },
        "outputId": "15a1fe09-291a-49a9-fff7-1977f74b7f22"
      },
      "source": [
        "%%sql\n",
        "--Почему-то нелязя испоьзовать функцию IF(условие, истина, ложь)\n",
        "--Исходя из этого, те компании, которые не попали в список не покупали песни заданного жанра.\n",
        "SELECT CUSTOMERS.Company AS \"Компания\"\n",
        "        , COUNT(tracks.TrackId) AS \"Кол-во песен\"\n",
        "FROM (((CUSTOMERS INNER JOIN invoices ON invoices.CustomerId = CUSTOMERS.CustomerId)\n",
        "      INNER JOIN invoice_items ON invoice_items.InvoiceId = invoices.InvoiceId)\n",
        "      INNER JOIN tracks ON tracks.TrackId = invoice_items.TrackId)\n",
        "      INNER JOIN genres ON tracks.GenreId = genres.GenreId\n",
        "WHERE genres.Name = \"Pop\"\n",
        "GROUP BY CUSTOMERS.Company \n",
        "HAVING \"Компания\" != \"Null\"\n"
      ],
      "execution_count": null,
      "outputs": [
        {
          "output_type": "stream",
          "name": "stdout",
          "text": [
            " * sqlite:////content/chinook.db\n",
            "Done.\n"
          ]
        },
        {
          "output_type": "execute_result",
          "data": {
            "text/html": [
              "<table>\n",
              "    <thead>\n",
              "        <tr>\n",
              "            <th>Компания</th>\n",
              "            <th>Кол-во песен</th>\n",
              "        </tr>\n",
              "    </thead>\n",
              "    <tbody>\n",
              "        <tr>\n",
              "            <td>Embraer - Empresa Brasileira de Aeronáutica S.A.</td>\n",
              "            <td>2</td>\n",
              "        </tr>\n",
              "        <tr>\n",
              "            <td>JetBrains s.r.o.</td>\n",
              "            <td>4</td>\n",
              "        </tr>\n",
              "    </tbody>\n",
              "</table>"
            ],
            "text/plain": [
              "[('Embraer - Empresa Brasileira de Aeronáutica S.A.', 2),\n",
              " ('JetBrains s.r.o.', 4)]"
            ]
          },
          "metadata": {},
          "execution_count": 10
        }
      ]
    },
    {
      "cell_type": "markdown",
      "metadata": {
        "id": "sxAD3kTf_iSy"
      },
      "source": [
        "* Задание 6*\n",
        "Для каждого артиста определить все жанры песен, которые у него есть и количество песен по каждому жанру"
      ]
    },
    {
      "cell_type": "code",
      "metadata": {
        "id": "9fKY5tt3CstK",
        "colab": {
          "base_uri": "https://localhost:8080/",
          "height": 289
        },
        "outputId": "8a346c8e-ad15-48e0-8635-f25a845a89c2"
      },
      "source": [
        "%%sql\n",
        "SELECT artists.Name AS \"Артист\"\n",
        "    , genres.Name AS \"Жанр\"\n",
        "    , COUNT(tracks.TrackId) AS \"Кол-во песен\"\n",
        "FROM ((artists INNER JOIN albums ON artists.ArtistId = albums.ArtistId)\n",
        "      INNER JOIN tracks ON albums.AlbumId = tracks.AlbumId)\n",
        "      INNER JOIN genres ON tracks.GenreId = genres.GenreId \n",
        "GROUP BY artists.Name, genres.Name\n",
        "LIMIT 10;"
      ],
      "execution_count": null,
      "outputs": [
        {
          "output_type": "stream",
          "name": "stdout",
          "text": [
            " * sqlite:////content/chinook.db\n",
            "Done.\n"
          ]
        },
        {
          "output_type": "execute_result",
          "data": {
            "text/html": [
              "<table>\n",
              "    <thead>\n",
              "        <tr>\n",
              "            <th>Артист</th>\n",
              "            <th>Жанр</th>\n",
              "            <th>Кол-во песен</th>\n",
              "        </tr>\n",
              "    </thead>\n",
              "    <tbody>\n",
              "        <tr>\n",
              "            <td>AC/DC</td>\n",
              "            <td>Rock</td>\n",
              "            <td>18</td>\n",
              "        </tr>\n",
              "        <tr>\n",
              "            <td>Aaron Copland &amp; London Symphony Orchestra</td>\n",
              "            <td>Classical</td>\n",
              "            <td>1</td>\n",
              "        </tr>\n",
              "        <tr>\n",
              "            <td>Aaron Goldberg</td>\n",
              "            <td>Jazz</td>\n",
              "            <td>1</td>\n",
              "        </tr>\n",
              "        <tr>\n",
              "            <td>Academy of St. Martin in the Fields &amp; Sir Neville Marriner</td>\n",
              "            <td>Classical</td>\n",
              "            <td>2</td>\n",
              "        </tr>\n",
              "        <tr>\n",
              "            <td>Academy of St. Martin in the Fields Chamber Ensemble &amp; Sir Neville Marriner</td>\n",
              "            <td>Classical</td>\n",
              "            <td>1</td>\n",
              "        </tr>\n",
              "        <tr>\n",
              "            <td>Academy of St. Martin in the Fields, John Birch, Sir Neville Marriner &amp; Sylvia McNair</td>\n",
              "            <td>Classical</td>\n",
              "            <td>1</td>\n",
              "        </tr>\n",
              "        <tr>\n",
              "            <td>Academy of St. Martin in the Fields, Sir Neville Marriner &amp; Thurston Dart</td>\n",
              "            <td>Classical</td>\n",
              "            <td>1</td>\n",
              "        </tr>\n",
              "        <tr>\n",
              "            <td>Accept</td>\n",
              "            <td>Rock</td>\n",
              "            <td>4</td>\n",
              "        </tr>\n",
              "        <tr>\n",
              "            <td>Adrian Leaper &amp; Doreen de Feis</td>\n",
              "            <td>Classical</td>\n",
              "            <td>1</td>\n",
              "        </tr>\n",
              "        <tr>\n",
              "            <td>Aerosmith</td>\n",
              "            <td>Rock</td>\n",
              "            <td>15</td>\n",
              "        </tr>\n",
              "    </tbody>\n",
              "</table>"
            ],
            "text/plain": [
              "[('AC/DC', 'Rock', 18),\n",
              " ('Aaron Copland & London Symphony Orchestra', 'Classical', 1),\n",
              " ('Aaron Goldberg', 'Jazz', 1),\n",
              " ('Academy of St. Martin in the Fields & Sir Neville Marriner', 'Classical', 2),\n",
              " ('Academy of St. Martin in the Fields Chamber Ensemble & Sir Neville Marriner', 'Classical', 1),\n",
              " ('Academy of St. Martin in the Fields, John Birch, Sir Neville Marriner & Sylvia McNair', 'Classical', 1),\n",
              " ('Academy of St. Martin in the Fields, Sir Neville Marriner & Thurston Dart', 'Classical', 1),\n",
              " ('Accept', 'Rock', 4),\n",
              " ('Adrian Leaper & Doreen de Feis', 'Classical', 1),\n",
              " ('Aerosmith', 'Rock', 15)]"
            ]
          },
          "metadata": {},
          "execution_count": 11
        }
      ]
    },
    {
      "cell_type": "markdown",
      "metadata": {
        "id": "8Nwojma57LlH"
      },
      "source": [
        "## Задание 7\n",
        "Вывести средний размер альбома в байтах"
      ]
    },
    {
      "cell_type": "code",
      "metadata": {
        "id": "K9xquOHcCtGq",
        "colab": {
          "base_uri": "https://localhost:8080/",
          "height": 182
        },
        "outputId": "92d8a83f-88c2-4361-e4cf-9d2a56e93ce1"
      },
      "source": [
        "%%sql\n",
        "SELECT DISTINCT albums.Title AS \"Альбом\"\n",
        "      , AVG(tracks.Bytes) AS \"Ср.размер\"\n",
        "FROM tracks INNER JOIN albums ON tracks.AlbumId = albums.AlbumId\n",
        "GROUP BY tracks.AlbumId\n",
        "LIMIT 5"
      ],
      "execution_count": null,
      "outputs": [
        {
          "output_type": "stream",
          "name": "stdout",
          "text": [
            " * sqlite:////content/chinook.db\n",
            "Done.\n"
          ]
        },
        {
          "output_type": "execute_result",
          "data": {
            "text/html": [
              "<table>\n",
              "    <thead>\n",
              "        <tr>\n",
              "            <th>Альбом</th>\n",
              "            <th>Ср.размер</th>\n",
              "        </tr>\n",
              "    </thead>\n",
              "    <tbody>\n",
              "        <tr>\n",
              "            <td>For Those About To Rock We Salute You</td>\n",
              "            <td>7827041.4</td>\n",
              "        </tr>\n",
              "        <tr>\n",
              "            <td>Balls to the Wall</td>\n",
              "            <td>5510424.0</td>\n",
              "        </tr>\n",
              "        <tr>\n",
              "            <td>Restless and Wild</td>\n",
              "            <td>4871098.0</td>\n",
              "        </tr>\n",
              "        <tr>\n",
              "            <td>Let There Be Rock</td>\n",
              "            <td>10029878.0</td>\n",
              "        </tr>\n",
              "        <tr>\n",
              "            <td>Big Ones</td>\n",
              "            <td>9618496.866666667</td>\n",
              "        </tr>\n",
              "    </tbody>\n",
              "</table>"
            ],
            "text/plain": [
              "[('For Those About To Rock We Salute You', 7827041.4),\n",
              " ('Balls to the Wall', 5510424.0),\n",
              " ('Restless and Wild', 4871098.0),\n",
              " ('Let There Be Rock', 10029878.0),\n",
              " ('Big Ones', 9618496.866666667)]"
            ]
          },
          "metadata": {},
          "execution_count": 12
        }
      ]
    },
    {
      "cell_type": "markdown",
      "metadata": {
        "id": "tsEdbha5CnGC"
      },
      "source": [
        "# Часть 2"
      ]
    },
    {
      "cell_type": "markdown",
      "metadata": {
        "id": "nLIbkB-w_aD6"
      },
      "source": [
        "## Задание 8\n",
        "Вывести названия треков и их продолжительность, которые были приобретены компаниями, которые обслуживаются сотрудниками, нанятыми после 3 сентября 2002 года"
      ]
    },
    {
      "cell_type": "code",
      "metadata": {
        "id": "d3s_ZXkoCuCy",
        "colab": {
          "base_uri": "https://localhost:8080/",
          "height": 289
        },
        "outputId": "32888a28-00e8-4b5b-e57d-58aefbb4d02d"
      },
      "source": [
        "%%sql \n",
        "SELECT tracks.Name\n",
        "      , Milliseconds \n",
        "FROM tracks INNER JOIN (SELECT Company , HireDate\n",
        "                        FROM CUSTOMERS, employees\n",
        "                        WHERE SupportRepId = EmployeeId\tAND HireDate > '2002-09-03')\n",
        "LIMIT 10"
      ],
      "execution_count": null,
      "outputs": [
        {
          "output_type": "stream",
          "name": "stdout",
          "text": [
            " * sqlite:////content/chinook.db\n",
            "Done.\n"
          ]
        },
        {
          "output_type": "execute_result",
          "data": {
            "text/html": [
              "<table>\n",
              "    <thead>\n",
              "        <tr>\n",
              "            <th>Name</th>\n",
              "            <th>Milliseconds</th>\n",
              "        </tr>\n",
              "    </thead>\n",
              "    <tbody>\n",
              "        <tr>\n",
              "            <td>For Those About To Rock (We Salute You)</td>\n",
              "            <td>343719</td>\n",
              "        </tr>\n",
              "        <tr>\n",
              "            <td>Balls to the Wall</td>\n",
              "            <td>342562</td>\n",
              "        </tr>\n",
              "        <tr>\n",
              "            <td>Fast As a Shark</td>\n",
              "            <td>230619</td>\n",
              "        </tr>\n",
              "        <tr>\n",
              "            <td>Restless and Wild</td>\n",
              "            <td>252051</td>\n",
              "        </tr>\n",
              "        <tr>\n",
              "            <td>Princess of the Dawn</td>\n",
              "            <td>375418</td>\n",
              "        </tr>\n",
              "        <tr>\n",
              "            <td>Put The Finger On You</td>\n",
              "            <td>205662</td>\n",
              "        </tr>\n",
              "        <tr>\n",
              "            <td>Let&#x27;s Get It Up</td>\n",
              "            <td>233926</td>\n",
              "        </tr>\n",
              "        <tr>\n",
              "            <td>Inject The Venom</td>\n",
              "            <td>210834</td>\n",
              "        </tr>\n",
              "        <tr>\n",
              "            <td>Snowballed</td>\n",
              "            <td>203102</td>\n",
              "        </tr>\n",
              "        <tr>\n",
              "            <td>Evil Walks</td>\n",
              "            <td>263497</td>\n",
              "        </tr>\n",
              "    </tbody>\n",
              "</table>"
            ],
            "text/plain": [
              "[('For Those About To Rock (We Salute You)', 343719),\n",
              " ('Balls to the Wall', 342562),\n",
              " ('Fast As a Shark', 230619),\n",
              " ('Restless and Wild', 252051),\n",
              " ('Princess of the Dawn', 375418),\n",
              " ('Put The Finger On You', 205662),\n",
              " (\"Let's Get It Up\", 233926),\n",
              " ('Inject The Venom', 210834),\n",
              " ('Snowballed', 203102),\n",
              " ('Evil Walks', 263497)]"
            ]
          },
          "metadata": {},
          "execution_count": 13
        }
      ]
    },
    {
      "cell_type": "markdown",
      "metadata": {
        "id": "Bu60tw0tADem"
      },
      "source": [
        "## Задание 9\n",
        "Для каждого артиста найти жанр, по которому он заработал наибольшее количество денег, а также вывести соотношение общей суммы, заработанной артистом по всем другим жанрам к общей сумме заработанных денег. Если по нескольким жанрам заработано одинаковое количество денег, и оно является максимальным для артиста, то выбирается жанр раньше по алфавиту"
      ]
    },
    {
      "cell_type": "code",
      "metadata": {
        "id": "0DP0Xd0_CuZE",
        "colab": {
          "base_uri": "https://localhost:8080/",
          "height": 609
        },
        "outputId": "88118d24-2e35-43f1-f37e-2d676f3cc9fb"
      },
      "source": [
        "%%sql\n",
        "SELECT\n",
        "Artist_Name\n",
        "      , Genre_Name\n",
        "      ,SUM(UnitPrice) AS Total_Cash -- вся прибыль по жанрам\n",
        "FROM tracks t\n",
        "LEFT JOIN (SELECT Name AS Genre_Name,* FROM genres ) AS g USING (GenreId )\n",
        ",(SELECT AlbumID, ArtistId FROM albums ) AS al USING (AlbumID )\n",
        ",(SELECT Name AS Artist_Name,* FROM artists ) AS ar USING (ArtistId)\n",
        ", (SELECT TrackId FROM invoice_items) AS ii USING (TrackId )\n",
        "\n",
        "GROUP BY Artist_Name,Genre_Name\n",
        "HAVING MAX(UnitPrice)\n",
        "ORDER BY Total_Cash desc, Artist_Name "
      ],
      "execution_count": null,
      "outputs": [
        {
          "output_type": "stream",
          "name": "stdout",
          "text": [
            " * sqlite:////content/chinook.db\n",
            "Done.\n"
          ]
        },
        {
          "output_type": "execute_result",
          "data": {
            "text/html": [
              "<table>\n",
              "    <thead>\n",
              "        <tr>\n",
              "            <th>Артист</th>\n",
              "            <th>Жанр</th>\n",
              "            <th>Максимальная цена</th>\n",
              "            <th>Соотношение</th>\n",
              "        </tr>\n",
              "    </thead>\n",
              "    <tbody>\n",
              "        <tr>\n",
              "            <td>Audioslave</td>\n",
              "            <td>Alternative</td>\n",
              "            <td>13.86</td>\n",
              "            <td>2.86</td>\n",
              "        </tr>\n",
              "        <tr>\n",
              "            <td>Titãs</td>\n",
              "            <td>Alternative &amp; Punk</td>\n",
              "            <td>37.62</td>\n",
              "            <td>8.74</td>\n",
              "        </tr>\n",
              "        <tr>\n",
              "            <td>Eric Clapton</td>\n",
              "            <td>Blues</td>\n",
              "            <td>31.68</td>\n",
              "            <td>2.53</td>\n",
              "        </tr>\n",
              "        <tr>\n",
              "            <td>Toquinho &amp; Vinícius</td>\n",
              "            <td>Bossa Nova</td>\n",
              "            <td>14.85</td>\n",
              "            <td>1.0</td>\n",
              "        </tr>\n",
              "        <tr>\n",
              "            <td>Berliner Philharmoniker &amp; Herbert Von Karajan</td>\n",
              "            <td>Classical</td>\n",
              "            <td>2.97</td>\n",
              "            <td>24.67</td>\n",
              "        </tr>\n",
              "        <tr>\n",
              "            <td>The Office</td>\n",
              "            <td>Comedy</td>\n",
              "            <td>33.83</td>\n",
              "            <td>1.0</td>\n",
              "        </tr>\n",
              "        <tr>\n",
              "            <td>Lost</td>\n",
              "            <td>Drama</td>\n",
              "            <td>87.56</td>\n",
              "            <td>1.45</td>\n",
              "        </tr>\n",
              "        <tr>\n",
              "            <td>Frank Sinatra</td>\n",
              "            <td>Easy Listening</td>\n",
              "            <td>23.76</td>\n",
              "            <td>1.0</td>\n",
              "        </tr>\n",
              "        <tr>\n",
              "            <td>O Rappa</td>\n",
              "            <td>Electronica/Dance</td>\n",
              "            <td>16.83</td>\n",
              "            <td>1.76</td>\n",
              "        </tr>\n",
              "        <tr>\n",
              "            <td>Iron Maiden</td>\n",
              "            <td>Heavy Metal</td>\n",
              "            <td>27.72</td>\n",
              "            <td>1.0</td>\n",
              "        </tr>\n",
              "        <tr>\n",
              "            <td>House Of Pain</td>\n",
              "            <td>Hip Hop/Rap</td>\n",
              "            <td>18.81</td>\n",
              "            <td>1.84</td>\n",
              "        </tr>\n",
              "        <tr>\n",
              "            <td>Miles Davis</td>\n",
              "            <td>Jazz</td>\n",
              "            <td>36.63</td>\n",
              "            <td>3.51</td>\n",
              "        </tr>\n",
              "        <tr>\n",
              "            <td>Os Paralamas Do Sucesso</td>\n",
              "            <td>Latin</td>\n",
              "            <td>48.51</td>\n",
              "            <td>11.82</td>\n",
              "        </tr>\n",
              "        <tr>\n",
              "            <td>Metallica</td>\n",
              "            <td>Metal</td>\n",
              "            <td>110.88</td>\n",
              "            <td>3.34</td>\n",
              "        </tr>\n",
              "        <tr>\n",
              "            <td>Sir Georg Solti, Sumi Jo &amp; Wiener Philharmoniker</td>\n",
              "            <td>Opera</td>\n",
              "            <td>0.99</td>\n",
              "            <td>1.0</td>\n",
              "        </tr>\n",
              "        <tr>\n",
              "            <td>U2</td>\n",
              "            <td>Pop</td>\n",
              "            <td>22.77</td>\n",
              "            <td>2.09</td>\n",
              "        </tr>\n",
              "        <tr>\n",
              "            <td>James Brown</td>\n",
              "            <td>R&amp;B/Soul</td>\n",
              "            <td>19.8</td>\n",
              "            <td>3.05</td>\n",
              "        </tr>\n",
              "        <tr>\n",
              "            <td>Cidade Negra</td>\n",
              "            <td>Reggae</td>\n",
              "            <td>30.69</td>\n",
              "            <td>1.87</td>\n",
              "        </tr>\n",
              "        <tr>\n",
              "            <td>Led Zeppelin</td>\n",
              "            <td>Rock</td>\n",
              "            <td>112.86</td>\n",
              "            <td>11.38</td>\n",
              "        </tr>\n",
              "        <tr>\n",
              "            <td>BackBeat</td>\n",
              "            <td>Rock And Roll</td>\n",
              "            <td>11.88</td>\n",
              "            <td>1.0</td>\n",
              "        </tr>\n",
              "        <tr>\n",
              "            <td>Battlestar Galactica (Classic)</td>\n",
              "            <td>Sci Fi &amp; Fantasy</td>\n",
              "            <td>47.76</td>\n",
              "            <td>1.08</td>\n",
              "        </tr>\n",
              "        <tr>\n",
              "            <td>Battlestar Galactica</td>\n",
              "            <td>Science Fiction</td>\n",
              "            <td>25.87</td>\n",
              "            <td>1.0</td>\n",
              "        </tr>\n",
              "        <tr>\n",
              "            <td>Gilberto Gil</td>\n",
              "            <td>Soundtrack</td>\n",
              "            <td>13.86</td>\n",
              "            <td>3.07</td>\n",
              "        </tr>\n",
              "        <tr>\n",
              "            <td>Lost</td>\n",
              "            <td>TV Shows</td>\n",
              "            <td>95.52</td>\n",
              "            <td>1.94</td>\n",
              "        </tr>\n",
              "        <tr>\n",
              "            <td>João Suplicy</td>\n",
              "            <td>World</td>\n",
              "            <td>13.86</td>\n",
              "            <td>2.0</td>\n",
              "        </tr>\n",
              "    </tbody>\n",
              "</table>"
            ],
            "text/plain": [
              "[('Audioslave', 'Alternative', 13.86, 2.86),\n",
              " ('Titãs', 'Alternative & Punk', 37.62, 8.74),\n",
              " ('Eric Clapton', 'Blues', 31.68, 2.53),\n",
              " ('Toquinho & Vinícius', 'Bossa Nova', 14.85, 1.0),\n",
              " ('Berliner Philharmoniker & Herbert Von Karajan', 'Classical', 2.97, 24.67),\n",
              " ('The Office', 'Comedy', 33.83, 1.0),\n",
              " ('Lost', 'Drama', 87.56, 1.45),\n",
              " ('Frank Sinatra', 'Easy Listening', 23.76, 1.0),\n",
              " ('O Rappa', 'Electronica/Dance', 16.83, 1.76),\n",
              " ('Iron Maiden', 'Heavy Metal', 27.72, 1.0),\n",
              " ('House Of Pain', 'Hip Hop/Rap', 18.81, 1.84),\n",
              " ('Miles Davis', 'Jazz', 36.63, 3.51),\n",
              " ('Os Paralamas Do Sucesso', 'Latin', 48.51, 11.82),\n",
              " ('Metallica', 'Metal', 110.88, 3.34),\n",
              " ('Sir Georg Solti, Sumi Jo & Wiener Philharmoniker', 'Opera', 0.99, 1.0),\n",
              " ('U2', 'Pop', 22.77, 2.09),\n",
              " ('James Brown', 'R&B/Soul', 19.8, 3.05),\n",
              " ('Cidade Negra', 'Reggae', 30.69, 1.87),\n",
              " ('Led Zeppelin', 'Rock', 112.86, 11.38),\n",
              " ('BackBeat', 'Rock And Roll', 11.88, 1.0),\n",
              " ('Battlestar Galactica (Classic)', 'Sci Fi & Fantasy', 47.76, 1.08),\n",
              " ('Battlestar Galactica', 'Science Fiction', 25.87, 1.0),\n",
              " ('Gilberto Gil', 'Soundtrack', 13.86, 3.07),\n",
              " ('Lost', 'TV Shows', 95.52, 1.94),\n",
              " ('João Suplicy', 'World', 13.86, 2.0)]"
            ]
          },
          "metadata": {},
          "execution_count": 17
        }
      ]
    },
    {
      "cell_type": "markdown",
      "metadata": {
        "id": "epfFVrwEAQzY"
      },
      "source": [
        "## Задание 10\n",
        "Вывести альбом, который является минимальным по объему (в байтах) среди альбомов со стоимостью, большей средней цены за альбом по всем альбомам с таким же жанром (если у альбома песни с нескольким жанрами, то жанром является тот, у которого наибольшее количество песен в альбоме)"
      ]
    },
    {
      "cell_type": "code",
      "metadata": {
        "id": "R83RnEy7z9Fw"
      },
      "source": [
        "%%sql\n",
        "SELECT albums.Title AS \"Альбом\"\n",
        "        , genres.Name AS \"Жанр\"\n",
        "        , MIN(tracks.Bytes) AS \"Минимальный объём\"\n",
        "        , SUM(tracks.UnitPrice) AS \"Цена за альбом\"\n",
        "FROM (albums INNER JOIN tracks ON albums.AlbumId = tracks.AlbumId)\n",
        "              INNER JOIN genres ON tracks.GenreId = genres.GenreId\n",
        "GROUP BY albums.Title"
      ],
      "execution_count": null,
      "outputs": []
    },
    {
      "cell_type": "code",
      "metadata": {
        "id": "JDPvn8iTCuvy",
        "colab": {
          "base_uri": "https://localhost:8080/",
          "height": 97
        },
        "outputId": "976767d0-728f-488c-aad2-2e935cf5d79b"
      },
      "source": [
        "%%sql \n",
        "SELECT \"Альбом\", MIN(\"Минимальный объём\")\n",
        "FROM \n",
        "  (SELECT albums.Title AS \"Альбом\"\n",
        "        , genres.Name AS \"Жанр\"\n",
        "        , AVG(tracks.UnitPrice) AS \"Ср. цена\"\n",
        "  FROM (albums INNER JOIN tracks ON albums.AlbumId = tracks.AlbumId)\n",
        "              INNER JOIN genres ON tracks.GenreId = genres.GenreId\n",
        "  GROUP BY albums.Title) AS tr\n",
        "  INNER JOIN \n",
        "  (SELECT albums.Title AS \"Альбом2\"\n",
        "        , genres.Name AS \"Жанр\"\n",
        "        , MIN(tracks.Bytes) AS \"Минимальный объём\"\n",
        "        , SUM(tracks.UnitPrice) AS \"Цена за альбом\"\n",
        "  FROM (albums INNER JOIN tracks ON albums.AlbumId = tracks.AlbumId)\n",
        "              INNER JOIN genres ON tracks.GenreId = genres.GenreId\n",
        "  GROUP BY albums.Title) AS rt \n",
        "  ON tr.\"Альбом\" = rt.\"Альбом2\"\n",
        "WHERE \"Цена за альбом\" > \"Ср. цена\"\n",
        "LIMIT 10"
      ],
      "execution_count": null,
      "outputs": [
        {
          "output_type": "stream",
          "name": "stdout",
          "text": [
            " * sqlite:////content/chinook.db\n",
            "Done.\n"
          ]
        },
        {
          "output_type": "execute_result",
          "data": {
            "text/html": [
              "<table>\n",
              "    <thead>\n",
              "        <tr>\n",
              "            <th>Альбом</th>\n",
              "            <th>MIN(&quot;Минимальный объём&quot;)</th>\n",
              "        </tr>\n",
              "    </thead>\n",
              "    <tbody>\n",
              "        <tr>\n",
              "            <td>O Samba Poconé</td>\n",
              "            <td>38747</td>\n",
              "        </tr>\n",
              "    </tbody>\n",
              "</table>"
            ],
            "text/plain": [
              "[('O Samba Poconé', 38747)]"
            ]
          },
          "metadata": {},
          "execution_count": 4
        }
      ]
    }
  ]
}